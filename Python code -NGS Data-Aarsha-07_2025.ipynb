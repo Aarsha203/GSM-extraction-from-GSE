{
 "cells": [
  {
   "cell_type": "code",
   "execution_count": null,
   "metadata": {},
   "outputs": [],
   "source": [
    "import os\n",
    "import requests\n",
    "from bs4 import BeautifulSoup\n",
    "\n",
    "def fetch_geo_metadata(geo_ids):\n",
    "    \"\"\"Fetch metadata, GSM IDs, and SRA info for given GEO IDs.\"\"\"\n",
    "    base_url = \"https://www.ncbi.nlm.nih.gov/geo/query/acc.cgi?acc=\"\n",
    "    geo_data = {}\n",
    "\n",
    "    for geo_id in geo_ids:\n",
    "        print(f\"Processing {geo_id}...\")\n",
    "        response = requests.get(base_url + geo_id)\n",
    "        soup = BeautifulSoup(response.content, 'html.parser')\n",
    "        \n",
    "        # Extract GSM IDs\n",
    "        gsm_links = soup.find_all('a', href=True)\n",
    "        gsm_ids = [link.text for link in gsm_links if link.text.startswith('GSM')]\n",
    "        geo_data[geo_id] = {'gsm_ids': gsm_ids}\n",
    "\n",
    "        # Extract SRA Run information\n",
    "        sra_info = []\n",
    "        for gsm_id in gsm_ids:\n",
    "            response = requests.get(base_url + gsm_id)\n",
    "            soup = BeautifulSoup(response.content, 'html.parser')\n",
    "            sra_link = soup.find('a', text='SRA Run Selector')\n",
    "            if sra_link:\n",
    "                sra_url = sra_link['href']\n",
    "                sra_info.append(sra_url)\n",
    "\n",
    "        geo_data[geo_id]['sra_info'] = sra_info\n",
    "\n",
    "        # Download series matrix file\n",
    "        matrix_url = f\"https://ftp.ncbi.nlm.nih.gov/geo/series/{geo_id[:-3]}nnn/{geo_id}/matrix/{geo_id}_series_matrix.txt.gz\"\n",
    "        matrix_file = f\"{geo_id}_series_matrix.txt.gz\"\n",
    "        response = requests.get(matrix_url, stream=True)\n",
    "        if response.status_code == 200:\n",
    "            with open(matrix_file, 'wb') as f:\n",
    "                for chunk in response.iter_content(chunk_size=1024):\n",
    "                    f.write(chunk)\n",
    "            print(f\"Downloaded series matrix file: {matrix_file}\")\n",
    "        else:\n",
    "            print(f\"Failed to download series matrix file for {geo_id}\")\n",
    "\n",
    "    return geo_data\n",
    "\n",
    "if __name__ == \"__main__\":\n",
    "    geo_ids_input = input(\"Enter GEO IDs (comma-separated): \")\n",
    "    geo_ids = [geo_id.strip() for geo_id in geo_ids_input.split(',')]\n",
    "    geo_data = fetch_geo_metadata(geo_ids)\n",
    "    print(\"Retrieved data:\", geo_data)\n"
   ]
  },
  {
   "cell_type": "code",
   "execution_count": null,
   "metadata": {},
   "outputs": [],
   "source": []
  }
 ],
 "metadata": {
  "kernelspec": {
   "display_name": "Python 3",
   "language": "python",
   "name": "python3"
  },
  "language_info": {
   "codemirror_mode": {
    "name": "ipython",
    "version": 3
   },
   "file_extension": ".py",
   "mimetype": "text/x-python",
   "name": "python",
   "nbconvert_exporter": "python",
   "pygments_lexer": "ipython3",
   "version": "3.8.5"
  }
 },
 "nbformat": 4,
 "nbformat_minor": 4
}
